{
 "cells": [
  {
   "cell_type": "markdown",
   "metadata": {},
   "source": [
    "# Chest X-Rays Medical Diagnosis\n",
    "<img src=\"xray-header-image.png\" style=\"width: 87%;left: 0px;margin-left: 0px;margin-right: 0px;\">\n",
    "\n",
    "## Exploratory Data Analysis\n",
    "\n",
    "### Dataset\n",
    "The Chest X-Rays dataset is retrieved from [Xiaosong Wang et al. *2017*, ChestX-ray8: Hospital-scale Chest X-ray Database and Benchmarks on Weakly-Supervised Classification and Localization of Common Thorax Diseases] at https://arxiv.org/abs/1705.02315.\n",
    "\n",
    "### Author's notes\n",
    "\n",
    "*The chest X-ray is one of the most commonly accessible\n",
    "radiological examinations for screening and diagnosis\n",
    "of many lung diseases. A tremendous number of X-ray\n",
    "imaging studies accompanied by radiological reports are\n",
    "accumulated and stored in many modern hospitals’ Picture\n",
    "Archiving and Communication Systems (PACS).*\n",
    "\n",
    "*ChestX-ray dataset comprises 112,120 frontal-view X-ray images of 30,805 unique patients with the text-mined fourteen disease image labels (where each image can have multi-labels), mined from the associated radiological reports using natural language processing. Fourteen common thoracic pathologies include Atelectasis, Consolidation, Infiltration, Pneumothorax, Edema, Emphysema, Fibrosis, Effusion, Pneumonia, Pleural_thickening, Cardiomegaly, Nodule, Mass and Hernia, which is an extension of the 8 common disease patterns listed in our CVPR2017 paper. Note that original radiology reports (associated with these chest x-ray studies) are not meant to be publicly shared for many reasons. The text-mined disease labels are expected to have accuracy >90%.*"
   ]
  },
  {
   "cell_type": "markdown",
   "metadata": {},
   "source": [
    "### Import and explore"
   ]
  },
  {
   "cell_type": "code",
   "execution_count": 46,
   "metadata": {},
   "outputs": [],
   "source": [
    "import pandas as pd\n",
    "import numpy as np\n",
    "import matplotlib.pyplot as plt"
   ]
  },
  {
   "cell_type": "code",
   "execution_count": 59,
   "metadata": {},
   "outputs": [],
   "source": [
    "# loading labels for each set of X-rays\n",
    "y_train = pd.read_pickle(\"y_train2.pkl\")\n",
    "y_val = pd.read_pickle(\"y_val2.pkl\")\n",
    "y_test = pd.read_pickle(\"y_test.pkl\")"
   ]
  },
  {
   "cell_type": "code",
   "execution_count": 60,
   "metadata": {},
   "outputs": [
    {
     "name": "stdout",
     "output_type": "stream",
     "text": [
      "<class 'pandas.core.frame.DataFrame'>\n",
      "RangeIndex: 73220 entries, 0 to 73219\n",
      "Data columns (total 16 columns):\n",
      " #   Column              Non-Null Count  Dtype \n",
      "---  ------              --------------  ----- \n",
      " 0   Image               73220 non-null  object\n",
      " 1   Atelectasis         73220 non-null  object\n",
      " 2   Cardiomegaly        73220 non-null  object\n",
      " 3   Consolidation       73220 non-null  object\n",
      " 4   Edema               73220 non-null  object\n",
      " 5   Effusion            73220 non-null  object\n",
      " 6   Emphysema           73220 non-null  object\n",
      " 7   Fibrosis            73220 non-null  object\n",
      " 8   Hernia              73220 non-null  object\n",
      " 9   Infiltration        73220 non-null  object\n",
      " 10  Mass                73220 non-null  object\n",
      " 11  Nodule              73220 non-null  object\n",
      " 12  PatientId           73220 non-null  object\n",
      " 13  Pleural_Thickening  73220 non-null  object\n",
      " 14  Pneumonia           73220 non-null  object\n",
      " 15  Pneumothorax        73220 non-null  object\n",
      "dtypes: object(16)\n",
      "memory usage: 8.9+ MB\n"
     ]
    }
   ],
   "source": [
    "# getting info about the loaded dataframe\n",
    "y_train.info()"
   ]
  },
  {
   "cell_type": "markdown",
   "metadata": {},
   "source": [
    "We can see that columns elements for each disease are of type object. This is not ideal as we would like to have float or integers that represent the 0/1 labels. We therefore convert the columns types into floats."
   ]
  },
  {
   "cell_type": "code",
   "execution_count": 61,
   "metadata": {},
   "outputs": [],
   "source": [
    "# columns to be converted into float objects\n",
    "col_conv = y_train.columns.to_list()[1:]\n",
    "\n",
    "# for each column, convert into float\n",
    "for col in col_conv:\n",
    "    y_train.loc[:,col]=y_train.loc[:,col].astype(np.float32)\n",
    "    y_val.loc[:,col]=y_val.loc[:,col_conv].astype(np.float32)\n",
    "    y_test.loc[:,col]=y_test.loc[:,col].astype(np.float32)"
   ]
  },
  {
   "cell_type": "code",
   "execution_count": 62,
   "metadata": {},
   "outputs": [
    {
     "name": "stdout",
     "output_type": "stream",
     "text": [
      "<class 'pandas.core.frame.DataFrame'>\n",
      "RangeIndex: 73220 entries, 0 to 73219\n",
      "Data columns (total 16 columns):\n",
      " #   Column              Non-Null Count  Dtype  \n",
      "---  ------              --------------  -----  \n",
      " 0   Image               73220 non-null  object \n",
      " 1   Atelectasis         73220 non-null  float32\n",
      " 2   Cardiomegaly        73220 non-null  float32\n",
      " 3   Consolidation       73220 non-null  float32\n",
      " 4   Edema               73220 non-null  float32\n",
      " 5   Effusion            73220 non-null  float32\n",
      " 6   Emphysema           73220 non-null  float32\n",
      " 7   Fibrosis            73220 non-null  float32\n",
      " 8   Hernia              73220 non-null  float32\n",
      " 9   Infiltration        73220 non-null  float32\n",
      " 10  Mass                73220 non-null  float32\n",
      " 11  Nodule              73220 non-null  float32\n",
      " 12  PatientId           73220 non-null  float32\n",
      " 13  Pleural_Thickening  73220 non-null  float32\n",
      " 14  Pneumonia           73220 non-null  float32\n",
      " 15  Pneumothorax        73220 non-null  float32\n",
      "dtypes: float32(15), object(1)\n",
      "memory usage: 4.7+ MB\n"
     ]
    }
   ],
   "source": [
    "# now, all disease columns should contains floats\n",
    "y_train.info()"
   ]
  },
  {
   "cell_type": "code",
   "execution_count": 63,
   "metadata": {},
   "outputs": [
    {
     "data": {
      "text/html": [
       "<div>\n",
       "<style scoped>\n",
       "    .dataframe tbody tr th:only-of-type {\n",
       "        vertical-align: middle;\n",
       "    }\n",
       "\n",
       "    .dataframe tbody tr th {\n",
       "        vertical-align: top;\n",
       "    }\n",
       "\n",
       "    .dataframe thead th {\n",
       "        text-align: right;\n",
       "    }\n",
       "</style>\n",
       "<table border=\"1\" class=\"dataframe\">\n",
       "  <thead>\n",
       "    <tr style=\"text-align: right;\">\n",
       "      <th></th>\n",
       "      <th>Image</th>\n",
       "      <th>Atelectasis</th>\n",
       "      <th>Cardiomegaly</th>\n",
       "      <th>Consolidation</th>\n",
       "      <th>Edema</th>\n",
       "      <th>Effusion</th>\n",
       "      <th>Emphysema</th>\n",
       "      <th>Fibrosis</th>\n",
       "      <th>Hernia</th>\n",
       "      <th>Infiltration</th>\n",
       "      <th>Mass</th>\n",
       "      <th>Nodule</th>\n",
       "      <th>PatientId</th>\n",
       "      <th>Pleural_Thickening</th>\n",
       "      <th>Pneumonia</th>\n",
       "      <th>Pneumothorax</th>\n",
       "    </tr>\n",
       "  </thead>\n",
       "  <tbody>\n",
       "    <tr>\n",
       "      <th>0</th>\n",
       "      <td>00000002_000.png</td>\n",
       "      <td>0.0</td>\n",
       "      <td>0.0</td>\n",
       "      <td>0.0</td>\n",
       "      <td>0.0</td>\n",
       "      <td>0.0</td>\n",
       "      <td>0.0</td>\n",
       "      <td>0.0</td>\n",
       "      <td>0.0</td>\n",
       "      <td>0.0</td>\n",
       "      <td>0.0</td>\n",
       "      <td>0.0</td>\n",
       "      <td>2.0</td>\n",
       "      <td>0.0</td>\n",
       "      <td>0.0</td>\n",
       "      <td>0.0</td>\n",
       "    </tr>\n",
       "    <tr>\n",
       "      <th>1</th>\n",
       "      <td>00000004_000.png</td>\n",
       "      <td>0.0</td>\n",
       "      <td>0.0</td>\n",
       "      <td>0.0</td>\n",
       "      <td>0.0</td>\n",
       "      <td>0.0</td>\n",
       "      <td>0.0</td>\n",
       "      <td>0.0</td>\n",
       "      <td>0.0</td>\n",
       "      <td>0.0</td>\n",
       "      <td>1.0</td>\n",
       "      <td>1.0</td>\n",
       "      <td>4.0</td>\n",
       "      <td>0.0</td>\n",
       "      <td>0.0</td>\n",
       "      <td>0.0</td>\n",
       "    </tr>\n",
       "    <tr>\n",
       "      <th>2</th>\n",
       "      <td>00000005_000.png</td>\n",
       "      <td>0.0</td>\n",
       "      <td>0.0</td>\n",
       "      <td>0.0</td>\n",
       "      <td>0.0</td>\n",
       "      <td>0.0</td>\n",
       "      <td>0.0</td>\n",
       "      <td>0.0</td>\n",
       "      <td>0.0</td>\n",
       "      <td>0.0</td>\n",
       "      <td>0.0</td>\n",
       "      <td>0.0</td>\n",
       "      <td>5.0</td>\n",
       "      <td>0.0</td>\n",
       "      <td>0.0</td>\n",
       "      <td>0.0</td>\n",
       "    </tr>\n",
       "    <tr>\n",
       "      <th>3</th>\n",
       "      <td>00000005_001.png</td>\n",
       "      <td>0.0</td>\n",
       "      <td>0.0</td>\n",
       "      <td>0.0</td>\n",
       "      <td>0.0</td>\n",
       "      <td>0.0</td>\n",
       "      <td>0.0</td>\n",
       "      <td>0.0</td>\n",
       "      <td>0.0</td>\n",
       "      <td>0.0</td>\n",
       "      <td>0.0</td>\n",
       "      <td>0.0</td>\n",
       "      <td>5.0</td>\n",
       "      <td>0.0</td>\n",
       "      <td>0.0</td>\n",
       "      <td>0.0</td>\n",
       "    </tr>\n",
       "    <tr>\n",
       "      <th>4</th>\n",
       "      <td>00000005_002.png</td>\n",
       "      <td>0.0</td>\n",
       "      <td>0.0</td>\n",
       "      <td>0.0</td>\n",
       "      <td>0.0</td>\n",
       "      <td>0.0</td>\n",
       "      <td>0.0</td>\n",
       "      <td>0.0</td>\n",
       "      <td>0.0</td>\n",
       "      <td>0.0</td>\n",
       "      <td>0.0</td>\n",
       "      <td>0.0</td>\n",
       "      <td>5.0</td>\n",
       "      <td>0.0</td>\n",
       "      <td>0.0</td>\n",
       "      <td>0.0</td>\n",
       "    </tr>\n",
       "    <tr>\n",
       "      <th>...</th>\n",
       "      <td>...</td>\n",
       "      <td>...</td>\n",
       "      <td>...</td>\n",
       "      <td>...</td>\n",
       "      <td>...</td>\n",
       "      <td>...</td>\n",
       "      <td>...</td>\n",
       "      <td>...</td>\n",
       "      <td>...</td>\n",
       "      <td>...</td>\n",
       "      <td>...</td>\n",
       "      <td>...</td>\n",
       "      <td>...</td>\n",
       "      <td>...</td>\n",
       "      <td>...</td>\n",
       "      <td>...</td>\n",
       "    </tr>\n",
       "    <tr>\n",
       "      <th>73215</th>\n",
       "      <td>00030786_006.png</td>\n",
       "      <td>0.0</td>\n",
       "      <td>0.0</td>\n",
       "      <td>1.0</td>\n",
       "      <td>0.0</td>\n",
       "      <td>0.0</td>\n",
       "      <td>0.0</td>\n",
       "      <td>0.0</td>\n",
       "      <td>0.0</td>\n",
       "      <td>0.0</td>\n",
       "      <td>0.0</td>\n",
       "      <td>0.0</td>\n",
       "      <td>30786.0</td>\n",
       "      <td>0.0</td>\n",
       "      <td>0.0</td>\n",
       "      <td>0.0</td>\n",
       "    </tr>\n",
       "    <tr>\n",
       "      <th>73216</th>\n",
       "      <td>00030786_007.png</td>\n",
       "      <td>0.0</td>\n",
       "      <td>0.0</td>\n",
       "      <td>1.0</td>\n",
       "      <td>0.0</td>\n",
       "      <td>0.0</td>\n",
       "      <td>0.0</td>\n",
       "      <td>0.0</td>\n",
       "      <td>0.0</td>\n",
       "      <td>0.0</td>\n",
       "      <td>0.0</td>\n",
       "      <td>0.0</td>\n",
       "      <td>30786.0</td>\n",
       "      <td>1.0</td>\n",
       "      <td>0.0</td>\n",
       "      <td>0.0</td>\n",
       "    </tr>\n",
       "    <tr>\n",
       "      <th>73217</th>\n",
       "      <td>00030789_000.png</td>\n",
       "      <td>0.0</td>\n",
       "      <td>0.0</td>\n",
       "      <td>0.0</td>\n",
       "      <td>0.0</td>\n",
       "      <td>0.0</td>\n",
       "      <td>0.0</td>\n",
       "      <td>0.0</td>\n",
       "      <td>0.0</td>\n",
       "      <td>1.0</td>\n",
       "      <td>0.0</td>\n",
       "      <td>0.0</td>\n",
       "      <td>30789.0</td>\n",
       "      <td>0.0</td>\n",
       "      <td>0.0</td>\n",
       "      <td>0.0</td>\n",
       "    </tr>\n",
       "    <tr>\n",
       "      <th>73218</th>\n",
       "      <td>00030801_000.png</td>\n",
       "      <td>0.0</td>\n",
       "      <td>0.0</td>\n",
       "      <td>0.0</td>\n",
       "      <td>0.0</td>\n",
       "      <td>0.0</td>\n",
       "      <td>0.0</td>\n",
       "      <td>0.0</td>\n",
       "      <td>0.0</td>\n",
       "      <td>0.0</td>\n",
       "      <td>0.0</td>\n",
       "      <td>0.0</td>\n",
       "      <td>30801.0</td>\n",
       "      <td>0.0</td>\n",
       "      <td>0.0</td>\n",
       "      <td>0.0</td>\n",
       "    </tr>\n",
       "    <tr>\n",
       "      <th>73219</th>\n",
       "      <td>00030801_001.png</td>\n",
       "      <td>0.0</td>\n",
       "      <td>0.0</td>\n",
       "      <td>0.0</td>\n",
       "      <td>0.0</td>\n",
       "      <td>0.0</td>\n",
       "      <td>0.0</td>\n",
       "      <td>0.0</td>\n",
       "      <td>0.0</td>\n",
       "      <td>0.0</td>\n",
       "      <td>1.0</td>\n",
       "      <td>0.0</td>\n",
       "      <td>30801.0</td>\n",
       "      <td>0.0</td>\n",
       "      <td>1.0</td>\n",
       "      <td>0.0</td>\n",
       "    </tr>\n",
       "  </tbody>\n",
       "</table>\n",
       "<p>73220 rows × 16 columns</p>\n",
       "</div>"
      ],
      "text/plain": [
       "                  Image  Atelectasis  Cardiomegaly  Consolidation  Edema  \\\n",
       "0      00000002_000.png          0.0           0.0            0.0    0.0   \n",
       "1      00000004_000.png          0.0           0.0            0.0    0.0   \n",
       "2      00000005_000.png          0.0           0.0            0.0    0.0   \n",
       "3      00000005_001.png          0.0           0.0            0.0    0.0   \n",
       "4      00000005_002.png          0.0           0.0            0.0    0.0   \n",
       "...                 ...          ...           ...            ...    ...   \n",
       "73215  00030786_006.png          0.0           0.0            1.0    0.0   \n",
       "73216  00030786_007.png          0.0           0.0            1.0    0.0   \n",
       "73217  00030789_000.png          0.0           0.0            0.0    0.0   \n",
       "73218  00030801_000.png          0.0           0.0            0.0    0.0   \n",
       "73219  00030801_001.png          0.0           0.0            0.0    0.0   \n",
       "\n",
       "       Effusion  Emphysema  Fibrosis  Hernia  Infiltration  Mass  Nodule  \\\n",
       "0           0.0        0.0       0.0     0.0           0.0   0.0     0.0   \n",
       "1           0.0        0.0       0.0     0.0           0.0   1.0     1.0   \n",
       "2           0.0        0.0       0.0     0.0           0.0   0.0     0.0   \n",
       "3           0.0        0.0       0.0     0.0           0.0   0.0     0.0   \n",
       "4           0.0        0.0       0.0     0.0           0.0   0.0     0.0   \n",
       "...         ...        ...       ...     ...           ...   ...     ...   \n",
       "73215       0.0        0.0       0.0     0.0           0.0   0.0     0.0   \n",
       "73216       0.0        0.0       0.0     0.0           0.0   0.0     0.0   \n",
       "73217       0.0        0.0       0.0     0.0           1.0   0.0     0.0   \n",
       "73218       0.0        0.0       0.0     0.0           0.0   0.0     0.0   \n",
       "73219       0.0        0.0       0.0     0.0           0.0   1.0     0.0   \n",
       "\n",
       "       PatientId  Pleural_Thickening  Pneumonia  Pneumothorax  \n",
       "0            2.0                 0.0        0.0           0.0  \n",
       "1            4.0                 0.0        0.0           0.0  \n",
       "2            5.0                 0.0        0.0           0.0  \n",
       "3            5.0                 0.0        0.0           0.0  \n",
       "4            5.0                 0.0        0.0           0.0  \n",
       "...          ...                 ...        ...           ...  \n",
       "73215    30786.0                 0.0        0.0           0.0  \n",
       "73216    30786.0                 1.0        0.0           0.0  \n",
       "73217    30789.0                 0.0        0.0           0.0  \n",
       "73218    30801.0                 0.0        0.0           0.0  \n",
       "73219    30801.0                 0.0        1.0           0.0  \n",
       "\n",
       "[73220 rows x 16 columns]"
      ]
     },
     "execution_count": 63,
     "metadata": {},
     "output_type": "execute_result"
    }
   ],
   "source": [
    "# let's have a look at the first and last 5 entries of the train dataframe\n",
    "y_train"
   ]
  },
  {
   "cell_type": "code",
   "execution_count": 64,
   "metadata": {},
   "outputs": [
    {
     "name": "stdout",
     "output_type": "stream",
     "text": [
      "shape of y_train: (73220, 16)\n",
      "shape of y_val: (13304, 16)\n",
      "shape of y_test: (25596, 16)\n",
      "\n",
      "\n",
      "Total number of X-rays images in the original dataset: 112120\n",
      "Fraction of images in train set is 0.6531\n",
      "Fraction of images in validation set is 0.1187\n",
      "Fraction of images in test set is 0.2283\n"
     ]
    }
   ],
   "source": [
    "# let's print shapes\n",
    "print(\"shape of y_train:\",y_train.shape)\n",
    "print(\"shape of y_val:\",y_val.shape)\n",
    "print(\"shape of y_test:\",y_test.shape)\n",
    "\n",
    "tot = y_train.shape[0]+y_val.shape[0]+y_test.shape[0]\n",
    "frac_train = y_train.shape[0]/tot\n",
    "frac_val = y_val.shape[0]/tot\n",
    "frac_test = y_test.shape[0]/tot\n",
    "print(\"\\n\")\n",
    "print(\"Total number of X-rays images in the original dataset:\",tot)\n",
    "print(\"Fraction of images in train set is\",round(frac_train,4))\n",
    "print(\"Fraction of images in validation set is\",round(frac_val,4))\n",
    "print(\"Fraction of images in test set is\",round(frac_test,4))"
   ]
  },
  {
   "cell_type": "markdown",
   "metadata": {},
   "source": [
    "### Important note:\n",
    "We notice the large number of images. Indeed, downloading the entire dataset takes approximately 45 GB and training on the entire dataset for multiple epochs on a CPU could take weeks. \n",
    "\n",
    "Since training can take considerable time, we have chosen to not train the model in this notebook but rather to load a set of pre-trained weights. For demonstration purpose in this document, we will only train our model on a small subset of the entire dataset with 5000 images splitted between y_train_small, y_val_small, and y_test_small sets.\n",
    "\n",
    "In our folder, the first 5000 images covers 1335 unique patients. We only keep the dataframe portion which correspond to that first 1335 patients, and ignore the remainder in this notebook."
   ]
  },
  {
   "cell_type": "code",
   "execution_count": 65,
   "metadata": {},
   "outputs": [],
   "source": [
    "y_train_small = y_train[y_train.PatientId<=1335]\n",
    "y_val_small = y_val[y_val.PatientId<=1335]\n",
    "y_test_small = y_test[y_test.PatientId<=1335]"
   ]
  },
  {
   "cell_type": "code",
   "execution_count": 66,
   "metadata": {},
   "outputs": [
    {
     "name": "stdout",
     "output_type": "stream",
     "text": [
      "<class 'pandas.core.frame.DataFrame'>\n",
      "Int64Index: 3207 entries, 0 to 3206\n",
      "Data columns (total 16 columns):\n",
      " #   Column              Non-Null Count  Dtype  \n",
      "---  ------              --------------  -----  \n",
      " 0   Image               3207 non-null   object \n",
      " 1   Atelectasis         3207 non-null   float32\n",
      " 2   Cardiomegaly        3207 non-null   float32\n",
      " 3   Consolidation       3207 non-null   float32\n",
      " 4   Edema               3207 non-null   float32\n",
      " 5   Effusion            3207 non-null   float32\n",
      " 6   Emphysema           3207 non-null   float32\n",
      " 7   Fibrosis            3207 non-null   float32\n",
      " 8   Hernia              3207 non-null   float32\n",
      " 9   Infiltration        3207 non-null   float32\n",
      " 10  Mass                3207 non-null   float32\n",
      " 11  Nodule              3207 non-null   float32\n",
      " 12  PatientId           3207 non-null   float32\n",
      " 13  Pleural_Thickening  3207 non-null   float32\n",
      " 14  Pneumonia           3207 non-null   float32\n",
      " 15  Pneumothorax        3207 non-null   float32\n",
      "dtypes: float32(15), object(1)\n",
      "memory usage: 238.0+ KB\n"
     ]
    }
   ],
   "source": [
    "y_train_small.info()"
   ]
  },
  {
   "cell_type": "code",
   "execution_count": 67,
   "metadata": {},
   "outputs": [
    {
     "name": "stdout",
     "output_type": "stream",
     "text": [
      "shape of y_train_small: (3207, 16)\n",
      "shape of y_val_small: (825, 16)\n",
      "shape of y_test_small: (967, 16)\n",
      "\n",
      "\n",
      "Total number of X-rays images in the original dataset: 4999\n",
      "Fraction of images in train set is 0.6415\n",
      "Fraction of images in validation set is 0.165\n",
      "Fraction of images in test set is 0.1934\n"
     ]
    }
   ],
   "source": [
    "# let's print shapes\n",
    "print(\"shape of y_train_small:\",y_train_small.shape)\n",
    "print(\"shape of y_val_small:\",y_val_small.shape)\n",
    "print(\"shape of y_test_small:\",y_test_small.shape)\n",
    "\n",
    "tot_small = y_train_small.shape[0]+y_val_small.shape[0]+y_test_small.shape[0]\n",
    "frac_train_small = y_train_small.shape[0]/tot_small\n",
    "frac_val_small = y_val_small.shape[0]/tot_small\n",
    "frac_test_small = y_test_small.shape[0]/tot_small\n",
    "\n",
    "print(\"\\n\")\n",
    "print(\"Total number of X-rays images in the original dataset:\",tot_small)\n",
    "print(\"Fraction of images in train set is\",round(frac_train_small,4))\n",
    "print(\"Fraction of images in validation set is\",round(frac_val_small,4))\n",
    "print(\"Fraction of images in test set is\",round(frac_test_small,4))"
   ]
  },
  {
   "cell_type": "markdown",
   "metadata": {},
   "source": [
    "### Preventing Data Leakage\n",
    "It is worth mentionning that there more images than unique patient ids. This happens because a unique patient may have done an X-ray scan multiple times in his medical records, which compiles the images collected during its many visists to the hospital.\n",
    "\n",
    "We have splitted our images between the train, validation, and test set, on a patient level so that there are no data patient data \"leakage\" between train, validation and test sets. To verify this fact, we are using the following function."
   ]
  },
  {
   "cell_type": "code",
   "execution_count": 56,
   "metadata": {},
   "outputs": [],
   "source": [
    "def check_for_leakage(df1, df2, patient_col):\n",
    "    \"\"\"Returns True if there is data leakage, returns False otherwise\n",
    "    Args:\n",
    "        df1 (dataframe): the first dataset\n",
    "        df2 (dataframe): the second dataset\n",
    "        patient_col (str): string name of the unique patient column IDs\n",
    "    Returns:\n",
    "        leakage (bool): True if there is leakage, otherwise False\n",
    "    \"\"\"\n",
    "    \n",
    "    df1_patients_unique = set(df1[patient_col].values)\n",
    "    df2_patients_unique = set(df2[patient_col].values)\n",
    "    patients_in_both_groups = list(df1_patients_unique.intersection(df2_patients_unique))\n",
    "    \n",
    "    if len(patients_in_both_groups)>=1:\n",
    "        leakage = True \n",
    "    else:\n",
    "        leakage = False\n",
    "    \n",
    "    return leakage"
   ]
  },
  {
   "cell_type": "code",
   "execution_count": 72,
   "metadata": {},
   "outputs": [
    {
     "name": "stdout",
     "output_type": "stream",
     "text": [
      "leakage between train and test: False\n",
      "leakage between valid and test: False\n"
     ]
    }
   ],
   "source": [
    "# let's check data leakage\n",
    "print(\"leakage between train and test: {}\".format(check_for_leakage(y_train_small, y_test_small, 'PatientId')))\n",
    "print(\"leakage between valid and test: {}\".format(check_for_leakage(y_train_small, y_val_small, 'PatientId')))"
   ]
  },
  {
   "cell_type": "code",
   "execution_count": 79,
   "metadata": {},
   "outputs": [
    {
     "name": "stdout",
     "output_type": "stream",
     "text": [
      "number of unique patients in train set: 3207\n",
      "number of unique patients in validation set: 825\n",
      "number of unique patients in test set: 967\n"
     ]
    }
   ],
   "source": [
    "print(\"number of unique patients in train set: {}\"\\\n",
    "      .format(len(y_train_small.PatientId)))\n",
    "print(\"number of unique patients in validation set: {}\"\\\n",
    "      .format(len(y_val_small.PatientId)))\n",
    "print(\"number of unique patients in test set: {}\"\\\n",
    "      .format(len(y_test_small.PatientId)))"
   ]
  },
  {
   "cell_type": "markdown",
   "metadata": {},
   "source": [
    "### Image Preparation & Generators\n",
    "Due to the large volume of images in this Chest X-Rays dataset, the proposed way to feed the model during the training phase will be to use [ImageDataGenerator](https://keras.io/preprocessing/image/) class from the Keras framework, which allows us to build a \"generator\" for images specified in a dataframe. Advantages of this class are the following: data augmented images can be generated automatically, automatic standardization of the inputed image, resize inputed image, adjust the number of input channels, shuffle image feeding order before runing each epoch."
   ]
  },
  {
   "cell_type": "code",
   "execution_count": 84,
   "metadata": {},
   "outputs": [],
   "source": [
    "from tensorflow.keras.preprocessing.image import ImageDataGenerator\n",
    "from tensorflow.keras.applications.densenet import DenseNet121\n",
    "from tensorflow.keras.layers import Dense, GlobalAveragePooling2D\n",
    "from tensorflow.keras.models import Model\n",
    "from tensorflow.keras import backend as K\n",
    "\n",
    "from tensorflow.keras.models import load_model"
   ]
  },
  {
   "cell_type": "code",
   "execution_count": 85,
   "metadata": {},
   "outputs": [],
   "source": [
    "def train_generator(df, image_dir, x_col, y_cols, shuffle=True, batch_size=8, seed=1, target_w = 320, target_h = 320):\n",
    "    \"\"\"\n",
    "    Return generator for training set, normalizing using batch\n",
    "    statistics.\n",
    "\n",
    "    Args:\n",
    "      train_df (dataframe): dataframe specifying training data.\n",
    "      image_dir (str): directory where image files are held.\n",
    "      x_col (str): name of column in df that holds filenames.\n",
    "      y_cols (list): list of strings that hold y labels for images.\n",
    "      batch_size (int): images per batch to be fed into model during training.\n",
    "      seed (int): random seed.\n",
    "      target_w (int): final width of input images.\n",
    "      target_h (int): final height of input images.\n",
    "    \n",
    "    Returns:\n",
    "        train_generator (DataFrameIterator): iterator over training set\n",
    "    \"\"\"\n",
    "    \n",
    "    # image normalisation\n",
    "    image_generator = ImageDataGenerator(\n",
    "        samplewise_center=True, # Set each sample mean to 0.\n",
    "        samplewise_std_normalization=True) # Divide each input by its std.\n",
    "    \n",
    "    # flow from directory with specified batch size and target image size\n",
    "    generator = image_generator.flow_from_dataframe(\n",
    "            dataframe=df,\n",
    "            directory=image_dir,\n",
    "            x_col=x_col,\n",
    "            y_col=y_cols,\n",
    "            class_mode=\"raw\",\n",
    "            batch_size=batch_size,\n",
    "            shuffle=shuffle,\n",
    "            seed=seed,\n",
    "            target_size=(target_w,target_h))\n",
    "    \n",
    "    return generator"
   ]
  },
  {
   "cell_type": "markdown",
   "metadata": {},
   "source": [
    "Now we also need to define a val_generator and test_generator for the test set. Why can't we use the same generator? This is because the train_generator normalizes each image per batch. We should not do that with validation and test data because in real-world scenarios incoming images won't be processed by batch but one at a time. Also, the model should not see any information about the test data at training time. Therefore, we will normalise the test images fed to the model using the statistics computed from the training set.\n",
    "\n",
    "Practical note: computing the mean and stv over the 40 GB+ images of the original dataset would take a lot of time. Hence, we take a random sample of the dataset and calculate the sample mean and sample standard deviation.\n",
    "\n",
    "\n",
    "We should not do this with the test and validation data, since in a real life scenario we don't process incoming images a batch at a time (we process one image at a time).\n",
    "Knowing the average per batch of test data would effectively give our model an advantage.\n",
    "The model should not have any information about the test data.\n",
    "What we need to do is normalize incoming test data using the statistics computed from the training set."
   ]
  },
  {
   "cell_type": "code",
   "execution_count": 88,
   "metadata": {},
   "outputs": [],
   "source": [
    "def test_generator(df_val, df_test, df_train, image_dir, x_col, y_cols, sample_size=100, batch_size=8, seed=1, target_w = 320, target_h = 320):\n",
    "    \"\"\"\n",
    "    Return generator for validation set and test test set using \n",
    "    normalization statistics from training set.\n",
    "\n",
    "    Args:\n",
    "      valid_df (dataframe): dataframe specifying validation data.\n",
    "      test_df (dataframe): dataframe specifying test data.\n",
    "      train_df (dataframe): dataframe specifying training data.\n",
    "      image_dir (str): directory where image files are held.\n",
    "      x_col (str): name of column in df that holds filenames.\n",
    "      y_cols (list): list of strings that hold y labels for images.\n",
    "      sample_size (int): size of sample to use for normalization statistics.\n",
    "      batch_size (int): images per batch to be fed into model during training.\n",
    "      seed (int): random seed.\n",
    "      target_w (int): final width of input images.\n",
    "      target_h (int): final height of input images.\n",
    "    \n",
    "    Returns:\n",
    "        test_generator (DataFrameIterator) and valid_generator: iterators over test set and validation set respectively\n",
    "    \"\"\"\n",
    "    # get generator to sample dataset\n",
    "    raw_train_generator = ImageDataGenerator().flow_from_dataframe(\n",
    "        dataframe=df_train, \n",
    "        directory=image_dir, \n",
    "        x_col=\"Image\", \n",
    "        y_col=y_cols, \n",
    "        class_mode=\"raw\", \n",
    "        batch_size=sample_size, \n",
    "        shuffle=True, \n",
    "        target_size=(target_w, target_h))\n",
    "    \n",
    "    # get data sample\n",
    "    batch = raw_train_generator.next()\n",
    "    data_sample = batch[0]\n",
    "\n",
    "    # use sample to fit mean and std for test set generator\n",
    "    image_generator = ImageDataGenerator(\n",
    "        featurewise_center = True,\n",
    "        featurewise_std_normalization = True)\n",
    "    \n",
    "    # fit generator to sample from training data\n",
    "    image_generator.fit(data_sample)\n",
    "\n",
    "    # get test generator\n",
    "    val_generator = image_generator.flow_from_dataframe(\n",
    "            dataframe=df_val,\n",
    "            directory=image_dir,\n",
    "            x_col=x_col,\n",
    "            y_col=y_cols,\n",
    "            class_mode=\"raw\",\n",
    "            batch_size=batch_size,\n",
    "            shuffle=False,\n",
    "            seed=seed,\n",
    "            target_size=(target_w,target_h))\n",
    "\n",
    "    test_generator = image_generator.flow_from_dataframe(\n",
    "            dataframe=df_test,\n",
    "            directory=image_dir,\n",
    "            x_col=x_col,\n",
    "            y_col=y_cols,\n",
    "            class_mode=\"raw\",\n",
    "            batch_size=batch_size,\n",
    "            shuffle=False,\n",
    "            seed=seed,\n",
    "            target_size=(target_w,target_h))\n",
    "    return val_generator, test_generator"
   ]
  },
  {
   "cell_type": "code",
   "execution_count": 89,
   "metadata": {},
   "outputs": [
    {
     "name": "stdout",
     "output_type": "stream",
     "text": [
      "Found 3207 validated image filenames.\n",
      "Found 3207 validated image filenames.\n",
      "Found 825 validated image filenames.\n",
      "Found 967 validated image filenames.\n"
     ]
    },
    {
     "data": {
      "text/plain": [
       "(<keras_preprocessing.image.dataframe_iterator.DataFrameIterator at 0x7ff3c1e13f10>,\n",
       " <keras_preprocessing.image.dataframe_iterator.DataFrameIterator at 0x7ff3c15def50>)"
      ]
     },
     "execution_count": 89,
     "metadata": {},
     "output_type": "execute_result"
    }
   ],
   "source": [
    "# specify the location of the image directory\n",
    "image_dir = '/Users/patrickfleith/Desktop/2_DataScience /Projects/CXR/images_001'\n",
    "\n",
    "# specify columns with image filenames\n",
    "x_col = \"Image\"\n",
    "\n",
    "# specify dataframe columns with classe's labels\n",
    "y_cols = ['Atelectasis',\n",
    "          'Cardiomegaly',\n",
    "          'Consolidation',\n",
    "          'Edema',\n",
    "          'Effusion',\n",
    "          'Emphysema',\n",
    "          'Fibrosis',\n",
    "          'Hernia', \n",
    "          'Infiltration', \n",
    "          'Mass', \n",
    "          'Nodule',\n",
    "          'PatientId',\n",
    "          'Pleural_Thickening',\n",
    "          'Pneumonia',\n",
    "          'Pneumothorax']\n",
    "\n",
    "# test train_generator and test_generator on the subset of the original dataset\n",
    "train_generator(y_train_small, image_dir, x_col, y_cols, shuffle=True, \\\n",
    "                batch_size=8, seed=1, target_w = 320, target_h = 320)\n",
    "\n",
    "test_generator(y_val_small, y_test_small, y_train_small, image_dir, \\\n",
    "               x_col, y_cols, sample_size=100, batch_size=8, seed=1, \\\n",
    "               target_w = 320, target_h = 320)"
   ]
  },
  {
   "cell_type": "code",
   "execution_count": null,
   "metadata": {},
   "outputs": [],
   "source": []
  },
  {
   "cell_type": "code",
   "execution_count": null,
   "metadata": {},
   "outputs": [],
   "source": []
  },
  {
   "cell_type": "code",
   "execution_count": null,
   "metadata": {},
   "outputs": [],
   "source": []
  },
  {
   "cell_type": "code",
   "execution_count": null,
   "metadata": {},
   "outputs": [],
   "source": []
  },
  {
   "cell_type": "markdown",
   "metadata": {},
   "source": [
    "In column \"image\" we have the chest X-ray image file name associated with patient ID from column \"PatientId\".\n",
    "In the other columns, we have labels 0 and 1 to denote a disease recognised from this Chest X-Ray."
   ]
  },
  {
   "cell_type": "code",
   "execution_count": null,
   "metadata": {},
   "outputs": [],
   "source": []
  },
  {
   "cell_type": "code",
   "execution_count": 19,
   "metadata": {},
   "outputs": [
    {
     "name": "stdout",
     "output_type": "stream",
     "text": [
      "Total number of images: 1000\n",
      "Number of unique patients ids: 928\n"
     ]
    }
   ],
   "source": [
    "# Appreciate dupplicated images per patient ID\n",
    "print(f\"Total number of images: {df.shape[0]}\")\n",
    "print(f\"Number of unique patients ids: {df['PatientId'].value_counts().shape[0]}\")"
   ]
  },
  {
   "cell_type": "markdown",
   "metadata": {},
   "source": [
    "We notice that there are less unique patients than chest x-rays images, which suggest there are probably some overlap. We would like to make sure that the patients with multiple records do not appears in both the training/validation and test set. This is to avoid data leakage."
   ]
  },
  {
   "cell_type": "code",
   "execution_count": 31,
   "metadata": {},
   "outputs": [
    {
     "name": "stdout",
     "output_type": "stream",
     "text": [
      "There are 106 positive examples of Atelectasis\n",
      "There are 20 positive examples of Cardiomegaly\n",
      "There are 33 positive examples of Consolidation\n",
      "There are 16 positive examples of Edema\n",
      "There are 128 positive examples of Effusion\n",
      "There are 13 positive examples of Emphysema\n",
      "There are 14 positive examples of Fibrosis\n",
      "There are 2 positive examples of Hernia\n",
      "There are 175 positive examples of Infiltration\n",
      "There are 45 positive examples of Mass\n",
      "There are 54 positive examples of Nodule\n",
      "There are 21 positive examples of Pleural_Thickening\n",
      "There are 10 positive examples of Pneumonia\n",
      "There are 38 positive examples of Pneumothorax\n"
     ]
    }
   ],
   "source": [
    "# Print out the number of positive labels for each class\n",
    "for col in df.drop([\"Image\",\"PatientId\"], axis=1).columns:\n",
    "    print(f\"There are {df[col].sum()} positive examples of {col}\")"
   ]
  },
  {
   "cell_type": "markdown",
   "metadata": {},
   "source": [
    "Printing the number of positive examples per class allows to quickly see that there are classes labels are largely imbalanced. This will be tackled before training."
   ]
  },
  {
   "cell_type": "code",
   "execution_count": null,
   "metadata": {},
   "outputs": [],
   "source": [
    "# plot some "
   ]
  },
  {
   "cell_type": "code",
   "execution_count": null,
   "metadata": {},
   "outputs": [],
   "source": []
  },
  {
   "cell_type": "code",
   "execution_count": null,
   "metadata": {},
   "outputs": [],
   "source": []
  },
  {
   "cell_type": "code",
   "execution_count": null,
   "metadata": {},
   "outputs": [],
   "source": []
  },
  {
   "cell_type": "code",
   "execution_count": null,
   "metadata": {},
   "outputs": [],
   "source": []
  },
  {
   "cell_type": "code",
   "execution_count": null,
   "metadata": {},
   "outputs": [],
   "source": []
  },
  {
   "cell_type": "code",
   "execution_count": null,
   "metadata": {},
   "outputs": [],
   "source": []
  },
  {
   "cell_type": "code",
   "execution_count": null,
   "metadata": {},
   "outputs": [],
   "source": []
  },
  {
   "cell_type": "code",
   "execution_count": null,
   "metadata": {},
   "outputs": [],
   "source": []
  },
  {
   "cell_type": "code",
   "execution_count": null,
   "metadata": {},
   "outputs": [],
   "source": []
  },
  {
   "cell_type": "code",
   "execution_count": null,
   "metadata": {},
   "outputs": [],
   "source": []
  },
  {
   "cell_type": "code",
   "execution_count": null,
   "metadata": {},
   "outputs": [],
   "source": []
  },
  {
   "cell_type": "code",
   "execution_count": null,
   "metadata": {},
   "outputs": [],
   "source": []
  },
  {
   "cell_type": "code",
   "execution_count": null,
   "metadata": {},
   "outputs": [],
   "source": []
  }
 ],
 "metadata": {
  "kernelspec": {
   "display_name": "Python 3",
   "language": "python",
   "name": "python3"
  },
  "language_info": {
   "codemirror_mode": {
    "name": "ipython",
    "version": 3
   },
   "file_extension": ".py",
   "mimetype": "text/x-python",
   "name": "python",
   "nbconvert_exporter": "python",
   "pygments_lexer": "ipython3",
   "version": "3.7.7"
  }
 },
 "nbformat": 4,
 "nbformat_minor": 4
}
